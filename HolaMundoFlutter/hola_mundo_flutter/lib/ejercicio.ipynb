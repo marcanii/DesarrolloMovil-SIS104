{
 "cells": [
  {
   "cell_type": "code",
   "execution_count": 118,
   "metadata": {},
   "outputs": [],
   "source": [
    "def multiplicacion_paso_a_paso(num1, num2):\n",
    "    num1_str = str(num1)\n",
    "    num2_str = str(num2)\n",
    "    print(f\"Multiplicación de {num1} x {num2}:\\n\")\n",
    "\n",
    "    # Paso 1: Escribir los números uno debajo del otro\n",
    "    print(f\"  {num1_str}\")\n",
    "    print(f\"   x {num2_str}\")\n",
    "    print(\"  \" + \"-\" * max(len(num1_str), len(num2_str) + 2))\n",
    "    \n",
    "    # Paso 2: Multiplicar cada dígito de num2 por num1 y mostrar el resultado parcial\n",
    "    resultados_parciales = []\n",
    "    for i, digito in enumerate(reversed(num2_str)):\n",
    "        digito = int(digito)\n",
    "        resultado_parcial = num1 * digito\n",
    "        resultados_parciales.append((resultado_parcial, i))\n",
    "        print(f\"{' ' * (len(num2_str) - 1 - i)}{resultado_parcial}\")\n",
    "        \n",
    "    # Paso 3: Sumar los resultados parciales\n",
    "    print(\" \" + \"-\" * (len(str(resultados_parciales[-1][0])) + resultados_parciales[-1][1]))\n",
    "    suma_final = sum(res * 10**pos for res, pos in resultados_parciales)\n",
    "    print(f\"{suma_final}\\n\")"
   ]
  },
  {
   "cell_type": "code",
   "execution_count": 120,
   "metadata": {},
   "outputs": [
    {
     "name": "stdout",
     "output_type": "stream",
     "text": [
      "Multiplicación de 99999 x 99:\n",
      "\n",
      "  99999\n",
      "   x 99\n",
      "  -----\n",
      " 899991\n",
      "899991\n",
      " -------\n",
      "9899901\n",
      "\n"
     ]
    }
   ],
   "source": [
    "multiplicacion_paso_a_paso(99999, 99)"
   ]
  },
  {
   "cell_type": "code",
   "execution_count": 4,
   "metadata": {},
   "outputs": [
    {
     "name": "stdout",
     "output_type": "stream",
     "text": [
      "La division entre 99999/99:\n",
      "99999  |99\n",
      "9\n",
      " 99\n",
      "  9\n",
      "   99\n",
      "    9\n",
      "     (9)\n",
      "Cociente: 1010\n"
     ]
    }
   ],
   "source": [
    "def division_paso_a_paso(dividendo, divisor):\n",
    "    # Inicializamos las variables\n",
    "    cociente = \"\"\n",
    "    resto = 0\n",
    "    dividendo_str = str(dividendo)\n",
    "\n",
    "    # Iteramos sobre los dígitos del dividendo\n",
    "    for i in range(len(dividendo_str)):\n",
    "        # Agrupamos los dígitos del dividendo según el divisor\n",
    "        grupo = resto * 10 + int(dividendo_str[i])\n",
    "        if grupo >= divisor:\n",
    "            print(f\"Dividendo: {grupo}\")\n",
    "            print(f\"Divisor: {divisor}\")\n",
    "\n",
    "            # Calculamos el cociente parcial\n",
    "            cociente_parcial = grupo // divisor\n",
    "            cociente += str(cociente_parcial)\n",
    "\n",
    "            # Calculamos el resto\n",
    "            resto = grupo % divisor\n",
    "\n",
    "            # Imprimimos el resultado parcial\n",
    "            print(f\"{grupo} ÷ {divisor} = {cociente_parcial} (Cociente parcial)\")\n",
    "            print(f\"Resto: {resto}\\n\")\n",
    "        else:\n",
    "            resto = grupo % divisor\n",
    "\n",
    "    # Imprimimos el resultado final\n",
    "    print(f\"Cociente: {cociente}\")\n",
    "    print(f\"Resto: {resto}\")\n",
    "\n",
    "def mostrar(dividendo, divisor):\n",
    "    # Inicializamos las variables\n",
    "    cociente = \"\"\n",
    "    resto = 0\n",
    "    dividendo_str = str(dividendo)\n",
    "    print(f\"La division entre {dividendo_str}/{divisor}:\")\n",
    "    print(f\"{dividendo_str}  |{divisor}\")\n",
    "    # Iteramos sobre los dígitos del dividendo\n",
    "    a=0\n",
    "    for i in range(len(dividendo_str)):\n",
    "        # Agrupamos los dígitos del dividendo según el divisor\n",
    "        grupo = resto * 10 + int(dividendo_str[i])\n",
    "        #if grupo >= divisor:\n",
    "        print(f\"{' '*a}{grupo}\")\n",
    "        a=a+1\n",
    "            # Calculamos el cociente parcial\n",
    "        cociente_parcial = grupo // divisor\n",
    "        cociente += str(cociente_parcial)\n",
    "            # Calculamos el resto\n",
    "        resto = grupo % divisor\n",
    "        # else:\n",
    "        #     resto = grupo % divisor\n",
    "        #     cociente += str(0)\n",
    "\n",
    "    print(f\"{' '*a}({resto})\")\n",
    "    print(f\"Cociente: {int(cociente)}\")\n",
    "\n",
    "mostrar(99999, 99)"
   ]
  },
  {
   "cell_type": "code",
   "execution_count": 3,
   "metadata": {},
   "outputs": [
    {
     "name": "stdout",
     "output_type": "stream",
     "text": [
      "Dividendo: 99\n",
      "Divisor: 99\n",
      "99 ÷ 99 = 1 (Cociente parcial)\n",
      "Resto: 0\n",
      "\n",
      "Dividendo: 99\n",
      "Divisor: 99\n",
      "99 ÷ 99 = 1 (Cociente parcial)\n",
      "Resto: 0\n",
      "\n",
      "Cociente: 11\n",
      "Resto: 9\n"
     ]
    }
   ],
   "source": [
    "division_paso_a_paso(99999, 99)"
   ]
  }
 ],
 "metadata": {
  "kernelspec": {
   "display_name": "Python 3",
   "language": "python",
   "name": "python3"
  },
  "language_info": {
   "codemirror_mode": {
    "name": "ipython",
    "version": 3
   },
   "file_extension": ".py",
   "mimetype": "text/x-python",
   "name": "python",
   "nbconvert_exporter": "python",
   "pygments_lexer": "ipython3",
   "version": "3.11.9"
  }
 },
 "nbformat": 4,
 "nbformat_minor": 2
}
